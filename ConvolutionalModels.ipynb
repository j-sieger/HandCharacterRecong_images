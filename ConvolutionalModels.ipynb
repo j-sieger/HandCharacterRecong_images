{
 "cells": [
  {
   "cell_type": "code",
   "execution_count": 1,
   "metadata": {},
   "outputs": [],
   "source": [
    "from matplotlib import pyplot as plt\n",
    "import numpy as np"
   ]
  },
  {
   "cell_type": "code",
   "execution_count": 2,
   "metadata": {},
   "outputs": [],
   "source": [
    "import re\n",
    "import glob\n",
    "import cv2\n",
    "import os"
   ]
  },
  {
   "cell_type": "code",
   "execution_count": 66,
   "metadata": {},
   "outputs": [
    {
     "name": "stderr",
     "output_type": "stream",
     "text": [
      "C:\\Users\\JanU\\Anaconda3\\lib\\site-packages\\h5py\\__init__.py:36: FutureWarning: Conversion of the second argument of issubdtype from `float` to `np.floating` is deprecated. In future, it will be treated as `np.float64 == np.dtype(float).type`.\n",
      "  from ._conv import register_converters as _register_converters\n",
      "Using TensorFlow backend.\n"
     ]
    }
   ],
   "source": [
    "import keras"
   ]
  },
  {
   "cell_type": "code",
   "execution_count": 67,
   "metadata": {},
   "outputs": [],
   "source": [
    "from keras.layers import Conv2D, MaxPooling2D, Flatten, Dense, Convolution2D, Activation, Dropout\n",
    "from keras.models import Sequential"
   ]
  },
  {
   "cell_type": "code",
   "execution_count": 3,
   "metadata": {},
   "outputs": [],
   "source": [
    "DATASET_LOCATION = \"English/Hnd/Img/\""
   ]
  },
  {
   "cell_type": "code",
   "execution_count": 4,
   "metadata": {},
   "outputs": [],
   "source": [
    "img_height =32\n",
    "img_width = 32\n",
    "\n",
    "image_size_flat = img_height*img_width\n",
    "img_shape = (img_height,img_width)\n",
    "\n",
    "num_channel = 1# for Gray scale\n",
    "num_classes = 62  # total 62 differenct chars"
   ]
  },
  {
   "cell_type": "code",
   "execution_count": 5,
   "metadata": {},
   "outputs": [],
   "source": [
    "def create_argmax(folder_name):\n",
    "    index= int(re.search(\"Sample(.*)\", folder_name).group(1)) - 1\n",
    "    arr = np.zeros(num_classes)\n",
    "    arr[index]=1\n",
    "    return arr"
   ]
  },
  {
   "cell_type": "code",
   "execution_count": 44,
   "metadata": {},
   "outputs": [],
   "source": [
    "def cvt_img2np(path):\n",
    "    img = cv2.imread(path)\n",
    "    img = cv2.cvtColor(img,cv2.COLOR_BGR2GRAY)\n",
    "    img = cv2.resize(img,(32,32))\n",
    "    return img"
   ]
  },
  {
   "cell_type": "code",
   "execution_count": 45,
   "metadata": {},
   "outputs": [],
   "source": [
    "def cvt_img2np2(path):\n",
    "    img = cv2.imread(path)\n",
    "    return cv2.cvtColor(img, cv2.COLOR_BGR2GRAY).reshape((28,28))"
   ]
  },
  {
   "cell_type": "code",
   "execution_count": 7,
   "metadata": {},
   "outputs": [
    {
     "data": {
      "text/plain": [
       "array([0., 0., 0., 0., 0., 1., 0., 0., 0., 0., 0., 0., 0., 0., 0., 0., 0.,\n",
       "       0., 0., 0., 0., 0., 0., 0., 0., 0., 0., 0., 0., 0., 0., 0., 0., 0.,\n",
       "       0., 0., 0., 0., 0., 0., 0., 0., 0., 0., 0., 0., 0., 0., 0., 0., 0.,\n",
       "       0., 0., 0., 0., 0., 0., 0., 0., 0., 0., 0.])"
      ]
     },
     "execution_count": 7,
     "metadata": {},
     "output_type": "execute_result"
    }
   ],
   "source": [
    "create_argmax(\"Sample006\")"
   ]
  },
  {
   "cell_type": "code",
   "execution_count": 47,
   "metadata": {},
   "outputs": [],
   "source": [
    "def get_dataset():\n",
    "    DATASET_LOCATION = \"English/Hnd/Img/\"\n",
    "    hcr = {\"data\":[], \"labels\":[], \"cls\":[]}\n",
    "    for folder in glob.glob(DATASET_LOCATION + \"/*\"):\n",
    "        if os.path.isdir(folder):\n",
    "            for img_path in glob.glob(folder + \"/*.png\"):\n",
    "                hcr.get('data').append(cvt_img2np(img_path))\n",
    "                hcr.get('labels').append(create_argmax(folder))\n",
    "                hcr.get('cls').append(int(folder[-3:]) - 1)\n",
    "    print(\"read completed\")\n",
    "    permutate = np.random.permutation(len(hcr.get('data')))\n",
    "    return {k1:v1[permutate] for k1, v1 in {k: np.array(v) for k, v in hcr.items()}.items()}"
   ]
  },
  {
   "cell_type": "code",
   "execution_count": 48,
   "metadata": {},
   "outputs": [],
   "source": [
    "def plot_images(images, cls_true, cls_pred=None):\n",
    "    assert len(images) == 9 and len(cls_true) == 9\n",
    "    \n",
    "    fig, axes = plt.subplots(3,3,figsize=(10,10))\n",
    "    fig.subplots_adjust(hspace=0.3, wspace=0.3)\n",
    "    \n",
    "    for i, ax in enumerate(axes.flat):\n",
    "        \n",
    "        ax.imshow(images[i], cmap=\"binary\")\n",
    "        if cls_pred is None:\n",
    "            xlabel = \"True {0}\".format(cls_true[i])\n",
    "        else:\n",
    "            xlabel = \"True {0}, Pred {1}\".format(cls_true[i], cls_pred[i])\n",
    "    \n",
    "        ax.set_xlabel(xlabel)\n",
    "    \n",
    "        ax.set_xticks([])\n",
    "        ax.set_yticks([])"
   ]
  },
  {
   "cell_type": "code",
   "execution_count": 49,
   "metadata": {},
   "outputs": [
    {
     "name": "stdout",
     "output_type": "stream",
     "text": [
      "read completed\n"
     ]
    },
    {
     "data": {
      "text/plain": [
       "3410"
      ]
     },
     "execution_count": 49,
     "metadata": {},
     "output_type": "execute_result"
    }
   ],
   "source": [
    "hcr = get_dataset()\n",
    "len(hcr.get('data'))"
   ]
  },
  {
   "cell_type": "code",
   "execution_count": 51,
   "metadata": {},
   "outputs": [
    {
     "data": {
      "image/png": "[encoded data removed]",
      "text/plain": [
       "<Figure size 720x720 with 9 Axes>"
      ]
     },
     "metadata": {},
     "output_type": "display_data"
    }
   ],
   "source": [
    "images = hcr.get(\"data\")[3000:3009]\n",
    "cls_true = hcr.get(\"cls\")[3000:3009]\n",
    "len(images)\n",
    "plot_images(images=images, cls_true=cls_true)"
   ]
  },
  {
   "cell_type": "code",
   "execution_count": 52,
   "metadata": {},
   "outputs": [
    {
     "data": {
      "text/plain": [
       "array([0., 0., 0., 0., 0., 0., 0., 0., 0., 0., 0., 0., 0., 0., 0., 0., 0.,\n",
       "       0., 0., 0., 0., 0., 0., 0., 0., 0., 1., 0., 0., 0., 0., 0., 0., 0.,\n",
       "       0., 0., 0., 0., 0., 0., 0., 0., 0., 0., 0., 0., 0., 0., 0., 0., 0.,\n",
       "       0., 0., 0., 0., 0., 0., 0., 0., 0., 0., 0.])"
      ]
     },
     "execution_count": 52,
     "metadata": {},
     "output_type": "execute_result"
    }
   ],
   "source": [
    "hcr[\"labels\"][90]"
   ]
  },
  {
   "cell_type": "code",
   "execution_count": 53,
   "metadata": {},
   "outputs": [
    {
     "data": {
      "image/png": "[encoded data removed]",
      "text/plain": [
       "<Figure size 432x288 with 1 Axes>"
      ]
     },
     "metadata": {},
     "output_type": "display_data"
    }
   ],
   "source": [
    "## Sample for my\n",
    "\n",
    "from matplotlib import pyplot as plt\n",
    "img = cv2.imread('English/Hnd/Img/Sample001/img001-001.png')\n",
    "\n",
    "gray = cv2.cvtColor(img, cv2.COLOR_BGR2GRAY)\n",
    "\n",
    "plt.imshow(gray)\n",
    "plt.title('my picture')\n",
    "plt.show()"
   ]
  },
  {
   "cell_type": "code",
   "execution_count": 54,
   "metadata": {},
   "outputs": [],
   "source": [
    "data = hcr[\"data\"]\n",
    "data = data.reshape((3410,1,32,32))"
   ]
  },
  {
   "cell_type": "code",
   "execution_count": 56,
   "metadata": {},
   "outputs": [],
   "source": [
    "data = data.astype(\"float32\")\n",
    "data = data/255"
   ]
  },
  {
   "cell_type": "code",
   "execution_count": 58,
   "metadata": {},
   "outputs": [],
   "source": [
    "labels = hcr[\"labels\"]"
   ]
  },
  {
   "cell_type": "code",
   "execution_count": 59,
   "metadata": {},
   "outputs": [
    {
     "data": {
      "text/plain": [
       "(3410, 1, 32, 32)"
      ]
     },
     "execution_count": 59,
     "metadata": {},
     "output_type": "execute_result"
    }
   ],
   "source": [
    "data.shape"
   ]
  },
  {
   "cell_type": "code",
   "execution_count": 60,
   "metadata": {},
   "outputs": [],
   "source": [
    "filters = 16\n",
    "kernel_size = (3,3)\n",
    "batch_size = 32\n",
    "num_epochs = 5"
   ]
  },
  {
   "cell_type": "code",
   "execution_count": 68,
   "metadata": {},
   "outputs": [
    {
     "data": {
      "text/plain": [
       "keras.layers.convolutional.Conv2D"
      ]
     },
     "execution_count": 68,
     "metadata": {},
     "output_type": "execute_result"
    }
   ],
   "source": [
    "Convolution2D"
   ]
  },
  {
   "cell_type": "code",
   "execution_count": 69,
   "metadata": {},
   "outputs": [
    {
     "name": "stderr",
     "output_type": "stream",
     "text": [
      "C:\\Users\\JanU\\Anaconda3\\lib\\site-packages\\ipykernel_launcher.py:8: UserWarning: Update your `MaxPooling2D` call to the Keras 2 API: `MaxPooling2D(pool_size=(2, 2), data_format=\"channels_first\")`\n",
      "  \n",
      "C:\\Users\\JanU\\Anaconda3\\lib\\site-packages\\ipykernel_launcher.py:13: UserWarning: Update your `MaxPooling2D` call to the Keras 2 API: `MaxPooling2D(pool_size=(2, 2), data_format=\"channels_first\")`\n",
      "  del sys.path[0]\n"
     ]
    }
   ],
   "source": [
    "conv_model = Sequential()\n",
    "\n",
    "conv_model.add(Conv2D(filters, (3,3), padding=\"same\", input_shape=(1,32,32)))\n",
    "conv_model.add(Activation(\"relu\"))\n",
    "\n",
    "conv_model.add(Conv2D(filters, kernel_size=(3,3), padding=\"same\"))\n",
    "conv_model.add(Activation(\"relu\"))\n",
    "conv_model.add(MaxPooling2D(pool_size=(2,2), dim_ordering=\"th\"))\n",
    "conv_model.add(Dropout(0.2))\n",
    "\n",
    "conv_model.add(Conv2D(filters, kernel_size=(3,3), padding=\"same\"))\n",
    "conv_model.add(Activation(\"relu\"))\n",
    "conv_model.add(MaxPooling2D(pool_size=(2,2), dim_ordering=\"th\"))\n",
    "conv_model.add(Dropout(0.2))\n",
    "\n",
    "conv_model.add(Flatten())\n",
    "conv_model.add(Dense(128))\n",
    "conv_model.add(Activation(\"relu\"))\n",
    "\n",
    "# conv_model.add(Dropout(0.2))\n",
    "conv_model.add(Dense(num_classes))\n",
    "conv_model.add(Activation(\"softmax\"))"
   ]
  },
  {
   "cell_type": "code",
   "execution_count": 70,
   "metadata": {},
   "outputs": [
    {
     "name": "stdout",
     "output_type": "stream",
     "text": [
      "_________________________________________________________________\n",
      "Layer (type)                 Output Shape              Param #   \n",
      "=================================================================\n",
      "conv2d_1 (Conv2D)            (None, 1, 32, 16)         4624      \n",
      "_________________________________________________________________\n",
      "activation_1 (Activation)    (None, 1, 32, 16)         0         \n",
      "_________________________________________________________________\n",
      "conv2d_2 (Conv2D)            (None, 1, 32, 16)         2320      \n",
      "_________________________________________________________________\n",
      "activation_2 (Activation)    (None, 1, 32, 16)         0         \n",
      "_________________________________________________________________\n",
      "max_pooling2d_1 (MaxPooling2 (None, 1, 16, 8)          0         \n",
      "_________________________________________________________________\n",
      "dropout_1 (Dropout)          (None, 1, 16, 8)          0         \n",
      "_________________________________________________________________\n",
      "conv2d_3 (Conv2D)            (None, 1, 16, 16)         1168      \n",
      "_________________________________________________________________\n",
      "activation_3 (Activation)    (None, 1, 16, 16)         0         \n",
      "_________________________________________________________________\n",
      "max_pooling2d_2 (MaxPooling2 (None, 1, 8, 8)           0         \n",
      "_________________________________________________________________\n",
      "dropout_2 (Dropout)          (None, 1, 8, 8)           0         \n",
      "_________________________________________________________________\n",
      "flatten_1 (Flatten)          (None, 64)                0         \n",
      "_________________________________________________________________\n",
      "dense_1 (Dense)              (None, 128)               8320      \n",
      "_________________________________________________________________\n",
      "activation_4 (Activation)    (None, 128)               0         \n",
      "_________________________________________________________________\n",
      "dense_2 (Dense)              (None, 62)                7998      \n",
      "_________________________________________________________________\n",
      "activation_5 (Activation)    (None, 62)                0         \n",
      "=================================================================\n",
      "Total params: 24,430\n",
      "Trainable params: 24,430\n",
      "Non-trainable params: 0\n",
      "_________________________________________________________________\n"
     ]
    }
   ],
   "source": [
    "conv_model.compile(loss=\"categorical_crossentropy\", optimizer=\"adam\", metrics=[\"accuracy\"])\n",
    "conv_model.summary()"
   ]
  },
  {
   "cell_type": "code",
   "execution_count": 71,
   "metadata": {},
   "outputs": [
    {
     "name": "stdout",
     "output_type": "stream",
     "text": [
      "Train on 2898 samples, validate on 512 samples\n",
      "Epoch 1/25\n",
      "2898/2898 [==============================] - 11s 4ms/step - loss: 4.1296 - acc: 0.0155 - val_loss: 4.1267 - val_acc: 0.0156\n",
      "Epoch 2/25\n",
      "2898/2898 [==============================] - 3s 934us/step - loss: 4.1228 - acc: 0.0214 - val_loss: 4.1165 - val_acc: 0.0352\n",
      "Epoch 3/25\n",
      "2898/2898 [==============================] - 2s 565us/step - loss: 4.0661 - acc: 0.0321 - val_loss: 4.0062 - val_acc: 0.0391\n",
      "Epoch 4/25\n",
      "2898/2898 [==============================] - 1s 506us/step - loss: 3.9231 - acc: 0.0576 - val_loss: 3.8500 - val_acc: 0.0762\n",
      "Epoch 5/25\n",
      "2898/2898 [==============================] - 1s 443us/step - loss: 3.7754 - acc: 0.0818 - val_loss: 3.7423 - val_acc: 0.0977\n",
      "Epoch 6/25\n",
      "2898/2898 [==============================] - 1s 386us/step - loss: 3.6209 - acc: 0.1035 - val_loss: 3.5735 - val_acc: 0.0879\n",
      "Epoch 7/25\n",
      "2898/2898 [==============================] - 1s 351us/step - loss: 3.5024 - acc: 0.1128 - val_loss: 3.4653 - val_acc: 0.1094\n",
      "Epoch 8/25\n",
      "2898/2898 [==============================] - 1s 356us/step - loss: 3.3989 - acc: 0.1277 - val_loss: 3.3687 - val_acc: 0.1270\n",
      "Epoch 9/25\n",
      "2898/2898 [==============================] - 1s 350us/step - loss: 3.2553 - acc: 0.1577 - val_loss: 3.2042 - val_acc: 0.1816\n",
      "Epoch 10/25\n",
      "2898/2898 [==============================] - 1s 329us/step - loss: 3.1146 - acc: 0.1832 - val_loss: 3.0942 - val_acc: 0.2227\n",
      "Epoch 11/25\n",
      "2898/2898 [==============================] - 1s 350us/step - loss: 3.0067 - acc: 0.2098 - val_loss: 2.9860 - val_acc: 0.2246\n",
      "Epoch 12/25\n",
      "2898/2898 [==============================] - 1s 357us/step - loss: 2.9194 - acc: 0.2188 - val_loss: 2.8930 - val_acc: 0.2617\n",
      "Epoch 13/25\n",
      "2898/2898 [==============================] - 1s 344us/step - loss: 2.8421 - acc: 0.2374 - val_loss: 2.7849 - val_acc: 0.2773\n",
      "Epoch 14/25\n",
      "2898/2898 [==============================] - 1s 346us/step - loss: 2.7651 - acc: 0.2629 - val_loss: 2.7146 - val_acc: 0.2793\n",
      "Epoch 15/25\n",
      "2898/2898 [==============================] - 1s 333us/step - loss: 2.6690 - acc: 0.2826 - val_loss: 2.6549 - val_acc: 0.3008\n",
      "Epoch 16/25\n",
      "2898/2898 [==============================] - 1s 403us/step - loss: 2.6392 - acc: 0.2840 - val_loss: 2.6436 - val_acc: 0.3223\n",
      "Epoch 17/25\n",
      "2898/2898 [==============================] - 1s 369us/step - loss: 2.5883 - acc: 0.2905 - val_loss: 2.5756 - val_acc: 0.3145\n",
      "Epoch 18/25\n",
      "2898/2898 [==============================] - 1s 367us/step - loss: 2.5696 - acc: 0.2999 - val_loss: 2.5589 - val_acc: 0.3184\n",
      "Epoch 19/25\n",
      "2898/2898 [==============================] - 1s 327us/step - loss: 2.5175 - acc: 0.3085 - val_loss: 2.5255 - val_acc: 0.3301\n",
      "Epoch 20/25\n",
      "2898/2898 [==============================] - 1s 327us/step - loss: 2.4794 - acc: 0.3064 - val_loss: 2.4963 - val_acc: 0.3281\n",
      "Epoch 21/25\n",
      "2898/2898 [==============================] - 1s 329us/step - loss: 2.4489 - acc: 0.3144 - val_loss: 2.4413 - val_acc: 0.3320\n",
      "Epoch 22/25\n",
      "2898/2898 [==============================] - 1s 316us/step - loss: 2.4185 - acc: 0.3389 - val_loss: 2.4381 - val_acc: 0.3594\n",
      "Epoch 23/25\n",
      "2898/2898 [==============================] - 1s 425us/step - loss: 2.3999 - acc: 0.3299 - val_loss: 2.4132 - val_acc: 0.3516\n",
      "Epoch 24/25\n",
      "2898/2898 [==============================] - 1s 339us/step - loss: 2.3365 - acc: 0.3537 - val_loss: 2.3666 - val_acc: 0.3672\n",
      "Epoch 25/25\n",
      "2898/2898 [==============================] - 1s 316us/step - loss: 2.3234 - acc: 0.3492 - val_loss: 2.3725 - val_acc: 0.3574\n"
     ]
    },
    {
     "data": {
      "text/plain": [
       "<keras.callbacks.History at 0x67e09c0c50>"
      ]
     },
     "execution_count": 71,
     "metadata": {},
     "output_type": "execute_result"
    }
   ],
   "source": [
    "data = data.reshape((3410,1,32,32))\n",
    "conv_model.fit(data, hcr[\"labels\"], epochs=25, validation_split=0.15)"
   ]
  },
  {
   "cell_type": "code",
   "execution_count": 72,
   "metadata": {},
   "outputs": [
    {
     "data": {
      "text/plain": [
       "array([1., 1., 1., ..., 1., 1., 1.], dtype=float32)"
      ]
     },
     "execution_count": 72,
     "metadata": {},
     "output_type": "execute_result"
    }
   ],
   "source": [
    "data = data.reshape((3410,1024 ))\n",
    "data[0]"
   ]
  },
  {
   "cell_type": "code",
   "execution_count": 73,
   "metadata": {},
   "outputs": [],
   "source": [
    "model = Sequential()\n",
    "model.add(Dense(512, input_shape=(1024,)))\n",
    "model.add(Activation(\"relu\"))\n",
    "\n",
    "model.add(Dense(256, input_shape=(1024,)))\n",
    "model.add(Activation(\"relu\"))\n",
    "\n",
    "model.add(Dense(num_classes))\n",
    "model.add(Activation(\"softmax\"))"
   ]
  },
  {
   "cell_type": "code",
   "execution_count": 74,
   "metadata": {},
   "outputs": [
    {
     "name": "stdout",
     "output_type": "stream",
     "text": [
      "_________________________________________________________________\n",
      "Layer (type)                 Output Shape              Param #   \n",
      "=================================================================\n",
      "dense_3 (Dense)              (None, 512)               524800    \n",
      "_________________________________________________________________\n",
      "activation_6 (Activation)    (None, 512)               0         \n",
      "_________________________________________________________________\n",
      "dense_4 (Dense)              (None, 256)               131328    \n",
      "_________________________________________________________________\n",
      "activation_7 (Activation)    (None, 256)               0         \n",
      "_________________________________________________________________\n",
      "dense_5 (Dense)              (None, 62)                15934     \n",
      "_________________________________________________________________\n",
      "activation_8 (Activation)    (None, 62)                0         \n",
      "=================================================================\n",
      "Total params: 672,062\n",
      "Trainable params: 672,062\n",
      "Non-trainable params: 0\n",
      "_________________________________________________________________\n"
     ]
    }
   ],
   "source": [
    "model.compile(loss='categorical_crossentropy', optimizer='adam', metrics=['accuracy'])\n",
    "model.summary()"
   ]
  },
  {
   "cell_type": "code",
   "execution_count": 75,
   "metadata": {},
   "outputs": [
    {
     "name": "stdout",
     "output_type": "stream",
     "text": [
      "Train on 2898 samples, validate on 512 samples\n",
      "Epoch 1/40\n",
      "2898/2898 [==============================] - 5s 2ms/step - loss: 4.2077 - acc: 0.0173 - val_loss: 4.1315 - val_acc: 0.0215\n",
      "Epoch 2/40\n",
      "2898/2898 [==============================] - 2s 818us/step - loss: 4.1275 - acc: 0.0173 - val_loss: 4.1230 - val_acc: 0.0234\n",
      "Epoch 3/40\n",
      "2898/2898 [==============================] - 2s 747us/step - loss: 4.1131 - acc: 0.0221 - val_loss: 4.1111 - val_acc: 0.0410\n",
      "Epoch 4/40\n",
      "2898/2898 [==============================] - 2s 767us/step - loss: 4.0597 - acc: 0.0297 - val_loss: 4.0210 - val_acc: 0.0371\n",
      "Epoch 5/40\n",
      "2898/2898 [==============================] - 2s 751us/step - loss: 3.8430 - acc: 0.0583 - val_loss: 3.8345 - val_acc: 0.0527\n",
      "Epoch 6/40\n",
      "2898/2898 [==============================] - 2s 754us/step - loss: 3.5709 - acc: 0.0939 - val_loss: 3.6606 - val_acc: 0.1094\n",
      "Epoch 7/40\n",
      "2898/2898 [==============================] - 2s 764us/step - loss: 3.4011 - acc: 0.1228 - val_loss: 3.4470 - val_acc: 0.1074\n",
      "Epoch 8/40\n",
      "2898/2898 [==============================] - 2s 760us/step - loss: 3.2555 - acc: 0.1608 - val_loss: 3.2904 - val_acc: 0.1582\n",
      "Epoch 9/40\n",
      "2898/2898 [==============================] - ETA: 0s - loss: 3.1295 - acc: 0.178 - 2s 748us/step - loss: 3.1238 - acc: 0.1791 - val_loss: 3.2693 - val_acc: 0.1504\n",
      "Epoch 10/40\n",
      "2898/2898 [==============================] - 2s 753us/step - loss: 3.0067 - acc: 0.2226 - val_loss: 3.1214 - val_acc: 0.2070\n",
      "Epoch 11/40\n",
      "2898/2898 [==============================] - 2s 753us/step - loss: 2.9548 - acc: 0.2239 - val_loss: 3.0715 - val_acc: 0.2539\n",
      "Epoch 12/40\n",
      "2898/2898 [==============================] - 2s 759us/step - loss: 2.8179 - acc: 0.2643 - val_loss: 2.9962 - val_acc: 0.2168\n",
      "Epoch 13/40\n",
      "2898/2898 [==============================] - 2s 759us/step - loss: 2.7431 - acc: 0.2809 - val_loss: 2.9216 - val_acc: 0.2793\n",
      "Epoch 14/40\n",
      "2898/2898 [==============================] - 2s 753us/step - loss: 2.7060 - acc: 0.2867 - val_loss: 2.8821 - val_acc: 0.3008\n",
      "Epoch 15/40\n",
      "2898/2898 [==============================] - 2s 754us/step - loss: 2.6270 - acc: 0.3009 - val_loss: 2.8966 - val_acc: 0.2637\n",
      "Epoch 16/40\n",
      "2898/2898 [==============================] - 2s 745us/step - loss: 2.5989 - acc: 0.2981 - val_loss: 2.8457 - val_acc: 0.2598\n",
      "Epoch 17/40\n",
      "2898/2898 [==============================] - 2s 749us/step - loss: 2.5550 - acc: 0.3233 - val_loss: 2.8270 - val_acc: 0.2656\n",
      "Epoch 18/40\n",
      "2898/2898 [==============================] - 2s 748us/step - loss: 2.4620 - acc: 0.3375 - val_loss: 2.8449 - val_acc: 0.2578\n",
      "Epoch 19/40\n",
      "2898/2898 [==============================] - 2s 750us/step - loss: 2.4240 - acc: 0.3458 - val_loss: 2.7423 - val_acc: 0.3145\n",
      "Epoch 20/40\n",
      "2898/2898 [==============================] - 2s 742us/step - loss: 2.3326 - acc: 0.3723 - val_loss: 2.6469 - val_acc: 0.3379\n",
      "Epoch 21/40\n",
      "2898/2898 [==============================] - 2s 743us/step - loss: 2.2757 - acc: 0.3792 - val_loss: 2.7276 - val_acc: 0.3086\n",
      "Epoch 22/40\n",
      "2898/2898 [==============================] - 2s 745us/step - loss: 2.2458 - acc: 0.3896 - val_loss: 2.6517 - val_acc: 0.3340\n",
      "Epoch 23/40\n",
      "2898/2898 [==============================] - 2s 744us/step - loss: 2.1753 - acc: 0.4003 - val_loss: 2.6124 - val_acc: 0.3398\n",
      "Epoch 24/40\n",
      "2898/2898 [==============================] - 2s 745us/step - loss: 2.1421 - acc: 0.4061 - val_loss: 2.5751 - val_acc: 0.3516\n",
      "Epoch 25/40\n",
      "2898/2898 [==============================] - 2s 743us/step - loss: 2.1175 - acc: 0.4137 - val_loss: 2.5225 - val_acc: 0.3359\n",
      "Epoch 26/40\n",
      "2898/2898 [==============================] - 2s 749us/step - loss: 2.0476 - acc: 0.4379 - val_loss: 2.5266 - val_acc: 0.3672\n",
      "Epoch 27/40\n",
      "2898/2898 [==============================] - 2s 738us/step - loss: 2.0340 - acc: 0.4337 - val_loss: 2.6171 - val_acc: 0.3359\n",
      "Epoch 28/40\n",
      "2898/2898 [==============================] - 2s 740us/step - loss: 1.9668 - acc: 0.4565 - val_loss: 2.4992 - val_acc: 0.3691\n",
      "Epoch 29/40\n",
      "2898/2898 [==============================] - 2s 737us/step - loss: 1.9134 - acc: 0.4689 - val_loss: 2.6716 - val_acc: 0.3457\n",
      "Epoch 30/40\n",
      "2898/2898 [==============================] - 2s 733us/step - loss: 1.9169 - acc: 0.4658 - val_loss: 2.4880 - val_acc: 0.3574\n",
      "Epoch 31/40\n",
      "2898/2898 [==============================] - 2s 736us/step - loss: 1.8635 - acc: 0.4676 - val_loss: 2.5124 - val_acc: 0.3613\n",
      "Epoch 32/40\n",
      "2898/2898 [==============================] - 2s 732us/step - loss: 1.8131 - acc: 0.4796 - val_loss: 2.3921 - val_acc: 0.3926\n",
      "Epoch 33/40\n",
      "2898/2898 [==============================] - 2s 734us/step - loss: 1.7891 - acc: 0.4934 - val_loss: 2.5122 - val_acc: 0.3535\n",
      "Epoch 34/40\n",
      "2898/2898 [==============================] - 2s 729us/step - loss: 1.7366 - acc: 0.5035 - val_loss: 2.4051 - val_acc: 0.4121\n",
      "Epoch 35/40\n",
      "2898/2898 [==============================] - 2s 730us/step - loss: 1.7109 - acc: 0.5100 - val_loss: 2.3563 - val_acc: 0.3984\n",
      "Epoch 36/40\n",
      "2898/2898 [==============================] - 2s 717us/step - loss: 1.6452 - acc: 0.5231 - val_loss: 2.4548 - val_acc: 0.3691\n",
      "Epoch 37/40\n",
      "2898/2898 [==============================] - 2s 723us/step - loss: 1.6065 - acc: 0.5383 - val_loss: 2.4126 - val_acc: 0.4043\n",
      "Epoch 38/40\n",
      "2898/2898 [==============================] - 2s 726us/step - loss: 1.6112 - acc: 0.5280 - val_loss: 2.3962 - val_acc: 0.4160\n",
      "Epoch 39/40\n",
      "2898/2898 [==============================] - 2s 733us/step - loss: 1.5932 - acc: 0.5273 - val_loss: 2.4643 - val_acc: 0.3809\n",
      "Epoch 40/40\n",
      "2898/2898 [==============================] - 2s 733us/step - loss: 1.5337 - acc: 0.5545 - val_loss: 2.3585 - val_acc: 0.4102\n"
     ]
    },
    {
     "data": {
      "text/plain": [
       "<keras.callbacks.History at 0x67df6bbf28>"
      ]
     },
     "execution_count": 75,
     "metadata": {},
     "output_type": "execute_result"
    }
   ],
   "source": [
    "model.fit(data, hcr[\"labels\"], validation_split=0.15, epochs=40)"
   ]
  },
  {
   "cell_type": "code",
   "execution_count": null,
   "metadata": {},
   "outputs": [],
   "source": []
  }
 ],
 "metadata": {
  "kernelspec": {
   "display_name": "Python 3",
   "language": "python",
   "name": "python3"
  },
  "language_info": {
   "codemirror_mode": {
    "name": "ipython",
    "version": 3
   },
   "file_extension": ".py",
   "mimetype": "text/x-python",
   "name": "python",
   "nbconvert_exporter": "python",
   "pygments_lexer": "ipython3",
   "version": "3.6.5"
  }
 },
 "nbformat": 4,
 "nbformat_minor": 2
}
